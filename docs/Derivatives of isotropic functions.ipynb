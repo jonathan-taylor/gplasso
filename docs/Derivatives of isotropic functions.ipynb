{
 "cells": [
  {
   "cell_type": "markdown",
   "id": "a640401f-021b-4705-8afc-96223b0c5fd3",
   "metadata": {},
   "source": [
    "We want to differentiate functions of the form\n",
    "$$\n",
    "R(s,t)=f(s-t)\n",
    "$$\n",
    "with\n",
    "$$\n",
    "f(v) = g\\left(\\frac{1}{2}v'Qv\\right).\n",
    "$$\n",
    "\n",
    "The canonical example being the radial basis function (Gaussian covariance) with\n",
    "$g(r)=e^{-r}$ and $Q=\\Lambda^{-1}$ being the precision of the covariance (the inverse covariance matrix of the derivatives of  such a field)."
   ]
  },
  {
   "cell_type": "markdown",
   "id": "0c49728a-4994-43b1-b4cc-2f2a46c4dad9",
   "metadata": {},
   "source": [
    "$$\n",
    "\\begin{aligned}\n",
    "\\frac{\\partial f}{\\partial v_{i_1}}\n",
    "&= g'\\left(\\frac{1}{2} v'Qv\\right) \\cdot \\sum_{j_1} Q_{i_1j_1}v_{j_1} \\\\\n",
    "&= g'\\left(\\frac{1}{2}v'Qv\\right) \\cdot \\left(e_{i_1}'Qv\\right)\n",
    "\\end{aligned}\n",
    "$$"
   ]
  },
  {
   "cell_type": "markdown",
   "id": "c892233d-9bcf-43bd-abf4-5f83d6a383db",
   "metadata": {},
   "source": [
    "$$\n",
    "\\begin{aligned}\n",
    "\\frac{\\partial^2 f}{\\partial v_{i_1} \\partial v_{i_2}}\n",
    "&= g''\\left(\\frac{1}{2}v'Qv\\right) \\cdot \\sum_{j_1,j_2} Q_{i_1j_1}v_{j_1}\n",
    "       Q_{i_2j_2}v_{j_2} + \\\\\n",
    "& \\qquad g'\\left(\\frac{1}{2}v'Qv\\right) \\cdot Q_{i_1i_2} \\\\\n",
    "&= g''\\left(\\frac{1}{2}v'Qv\\right) \\cdot \\left(e_{i_1}'Qv \\right) \\left(e_{i_2}'Qv \\right) + \\\\\n",
    "& \\qquad g'\\left(\\frac{1}{2}v'Qv\\right) \\cdot Q_{i_1i_2}\n",
    "\\end{aligned}\n",
    "$$"
   ]
  },
  {
   "cell_type": "markdown",
   "id": "38373809-02af-49df-b989-f1344d505529",
   "metadata": {},
   "source": [
    "$$\n",
    "\\begin{aligned}\n",
    "\\frac{\\partial^3 f}{\\partial v_{i_1} \\partial v_{i_2}\n",
    "                   \\partial v_{i_3}}\n",
    "&= g'''\\left(\\frac{1}{2}v'Qv\\right) \\cdot  \\left(e_{i_1}'Qv \\right) \\left(e_{i_2}'Qv \\right)\n",
    "\\left(e_{i_3}'Qv \\right) + \\\\\n",
    "& \\qquad g''\\left(\\frac{1}{2}v'Qv\\right) \\left[Q_{i_1i_3} \\left(e_{i_2}'Qv \\right) + Q_{i_2i_3} \\left(e_{i_1}'Qv \\right)\\right] \\\\\n",
    "& \\qquad g''\\left(\\frac{1}{2}v'Qv\\right) \\cdot Q_{i_1i_2} \\left(e_{i_3}'Qv \\right) \\\\\n",
    "&= g'''\\left(\\frac{1}{2}v'Qv\\right) \\cdot  \\left(e_{i_1}'Qv \\right) \\left(e_{i_2}'Qv \\right)\n",
    "\\left(e_{i_3}'Qv \\right) + \\\\\n",
    "& \\qquad g''\\left(\\frac{1}{2}v'Qv\\right) \\left[Q_{i_1i_3} \\left(e_{i_2}'Qv \\right) + Q_{i_2i_3} \\left(e_{i_1}'Qv \\right) + Q_{i_1i_2} \\left(e_{i_3}'Qv \\right) \\right] \\\\\n",
    "\\end{aligned}\n",
    "$$"
   ]
  },
  {
   "cell_type": "markdown",
   "id": "e42a0ebf-3b49-465c-b690-f3caa7087773",
   "metadata": {
    "tags": []
   },
   "source": [
    "$$\n",
    "\\begin{aligned}\n",
    "\\frac{\\partial^4 f}{\\partial v_{i_1} \\partial v_{i_2}\n",
    "                   \\partial v_{i_3} \\partial v_{i_4}}\n",
    "&= g''''\\left(\\frac{1}{2}v'Qv\\right) \\left(e_{i_1}'Qv \\right) \\left(e_{i_2}'Qv \\right)\n",
    "\\left(e_{i_3}'Qv \\right) \\left(e_{i_4}'Qv \\right) + \\\\\n",
    "& \\qquad g'''\\left(\\frac{1}{2}v'Qv\\right) \\cdot \\biggl[Q_{i_1i_4} \\left(e_{i_2}'Qv \\right) \\left(e_{i_3}'Qv \\right) + \n",
    "Q_{i_2i_4} \\left(e_{i_1}'Qv \\right) \\left(e_{i_3}'Qv \\right) +\n",
    "Q_{i_3i_4} \\left(e_{i_1}'Qv \\right) \\left(e_{i_2}'Qv \\right) +\n",
    "Q_{i_1i_3} \\left(e_{i_2}'Qv \\right) \\left(e_{i_4}'Qv \\right)\n",
    "+ Q_{i_2i_3} \\left(e_{i_1}'Qv \\right) \\left(e_{i_4}'Qv\\right) + Q_{i_1i_2} \\left(e_{i_3}'Qv \\right) \\left(e_{i_4}'Qv\\right) \\biggr] + \\\\\n",
    "& \\qquad g''\\left(\\frac{1}{2}v'Qv\\right) \\left[Q_{i_1i_3}Q_{i_2i_4} + Q_{i_2i_3}Q_{i_1i_4} + Q_{i_1i_2}Q_{i_3i_4}\\right]\n",
    "\\end{aligned}\n",
    "$$"
   ]
  },
  {
   "cell_type": "code",
   "execution_count": null,
   "id": "463995e0-10bc-44e2-8cb2-a617e950d0d3",
   "metadata": {
    "tags": []
   },
   "outputs": [],
   "source": [
    "import numpy as np\n",
    "from dataclasses import dataclass\n",
    "\n",
    "@dataclass\n",
    "class isofunc(object):\n",
    "    \n",
    "    Q : np.ndarray\n",
    "                 \n",
    "    def func(self, arg, order=0):\n",
    "        raise NotImplementedError('must implement up to 4th order derivative')\n",
    "        \n",
    "    def deriv0(self, v):\n",
    "        # v_flat of shape (-1,Q.shape[0])\n",
    "        d = self.Q.shape[0]\n",
    "        v_flat = v.reshape((-1,d))\n",
    "        Qv = np.einsum('ij,jk->ik', v_flat, self.Q)\n",
    "        arg = (Qv * v_flat).sum(-1)\n",
    "        return self.func(arg/2, order=0).reshape(v.shape[:-1])\n",
    "\n",
    "    def deriv1(self, v):\n",
    "        # v_flat of shape (-1,Q.shape[0])\n",
    "        d = self.Q.shape[0]\n",
    "        v_flat = v.reshape((-1,d))\n",
    "        Qv = np.einsum('ij,jk->ik', v_flat, self.Q)\n",
    "        arg = (Qv * v_flat).sum(-1)\n",
    "        g_1 = self.func(arg/2, order=1)\n",
    "        return (g_1[:,None] * Qv).reshape(v.shape[:-1] + (d,))\n",
    "\n",
    "    def deriv2(self, v):\n",
    "        # v_flat of shape (-1,Q.shape[0])\n",
    "        d = self.Q.shape[0]\n",
    "        v_flat = v.reshape((-1,d))\n",
    "        Qv = np.einsum('ij,jk->ik', v_flat, self.Q)\n",
    "        arg = (Qv * v_flat).sum(-1)\n",
    "        g_1 = self.func(arg/2, order=1)\n",
    "        g_2 = self.func(arg/2, order=2)\n",
    "        \n",
    "        V_2 = np.einsum('i,ij,ik->ijk', g_2, Qv, Qv)\n",
    "        V_1 = np.einsum('i,jk->ijk', g_1, self.Q)\n",
    "        \n",
    "        return (V_1 + V_2).reshape(v.shape[:-1] + (d, d))\n",
    "    \n",
    "    def deriv3(self, v):\n",
    "        # v_flat of shape (-1,Q.shape[0])\n",
    "        d = self.Q.shape[0]\n",
    "        v_flat = v.reshape((-1,d))\n",
    "        Qv = np.einsum('ij,jk->ik', v_flat, self.Q)\n",
    "        arg = (Qv * v_flat).sum(-1)\n",
    "        g_2 = self.func(arg/2, order=2)\n",
    "        g_3 = self.func(arg/2, order=3)\n",
    "        \n",
    "        V_3 = np.einsum('i,ij,ik,il->ijkl', g_3, Qv, Qv, Qv)\n",
    "        V_2 = (np.einsum('i,ij,kl->ijkl', g_2, Qv, Q) +\n",
    "               np.einsum('i,ik,jl->ijkl', g_2, Qv, Q) +\n",
    "               np.einsum('i,il,jk->ijkl', g_2, Qv, Q))\n",
    "        return (V_3 + V_2).reshape(v.shape[:-1] + (d,)*3)\n",
    "\n",
    "    def deriv4(self, v):\n",
    "        # v_flat of shape (-1,Q.shape[0])\n",
    "        d = self.Q.shape[0]\n",
    "        v_flat = v.reshape((-1,d))\n",
    "        Qv = np.einsum('ij,jk->ik', v_flat, self.Q)\n",
    "        arg = (Qv * v_flat).sum(-1)\n",
    "        \n",
    "        g_2 = self.func(arg/2, order=2)\n",
    "        g_3 = self.func(arg/2, order=3)\n",
    "        g_4 = self.func(arg/2, order=4)\n",
    "        \n",
    "        V_4 = np.einsum('i,ij,ik,il,im->ijklm', g_4, Qv, Qv, Qv, Qv)\n",
    "        \n",
    "        V_3 = (np.einsum('i,ij,ik,lm->ijklm', g_3, Qv, Qv, Q) +\n",
    "               np.einsum('i,ij,il,km->ijklm', g_3, Qv, Qv, Q) +\n",
    "               np.einsum('i,ij,im,kl->ijklm', g_3, Qv, Qv, Q) +\n",
    "               np.einsum('i,ik,il,jm->ijklm', g_3, Qv, Qv, Q) +\n",
    "               np.einsum('i,ik,im,jl->ijklm', g_3, Qv, Qv, Q) +\n",
    "               np.einsum('i,il,im,jk->ijklm', g_3, Qv, Qv, Q))\n",
    "        \n",
    "        V_2 = (np.einsum('i,jk,lm->ijklm', g_2, Q, Q) +\n",
    "               np.einsum('i,jl,km->ijklm', g_2, Q, Q) +\n",
    "               np.einsum('i,jm,kl->ijklm', g_2, Q, Q))\n",
    "        \n",
    "        return (V_4 + V_3 + V_2).reshape(v.shape[:-1] + (d,)*4)\n",
    "\n",
    "class gaussian(isofunc):\n",
    "    \n",
    "    def func(self, arg, order=0):\n",
    "        return (-1)**order * np.exp(-arg)\n",
    "    \n",
    "\n",
    "                 "
   ]
  },
  {
   "cell_type": "code",
   "execution_count": null,
   "id": "825fe063-3755-4913-8ac4-b15d5328056e",
   "metadata": {
    "tags": []
   },
   "outputs": [],
   "source": [
    "rng = np.random.default_rng(0)\n",
    "X = rng.standard_normal((5,3))\n",
    "Q = X.T @ X / 5\n",
    "G = gaussian(Q)\n",
    "V = rng.standard_normal((10,3))\n",
    "W = rng.standard_normal((5,3))\n",
    "G.deriv0(V)"
   ]
  },
  {
   "cell_type": "code",
   "execution_count": null,
   "id": "d96629c2-810d-41ef-8328-d6bf72b35a60",
   "metadata": {
    "tags": []
   },
   "outputs": [],
   "source": [
    "np.exp(-(V * (V @ Q)).sum(1)/2)"
   ]
  },
  {
   "cell_type": "code",
   "execution_count": null,
   "id": "7324eb8a-293f-4e42-aa7f-34eefdbe6629",
   "metadata": {
    "tags": []
   },
   "outputs": [],
   "source": [
    "G.deriv1(V)[0]"
   ]
  },
  {
   "cell_type": "code",
   "execution_count": null,
   "id": "19745404-8d98-4c2a-b0b3-843b8550bc35",
   "metadata": {
    "tags": []
   },
   "outputs": [],
   "source": [
    "(-np.exp(-(V[0] * (Q @ V[0])).sum()/2)*(Q @ V[0]))"
   ]
  },
  {
   "cell_type": "code",
   "execution_count": null,
   "id": "d35fefa2-8348-40d7-bf0e-9b827c81c2d2",
   "metadata": {
    "tags": []
   },
   "outputs": [],
   "source": [
    "G.deriv2(V)[0]"
   ]
  },
  {
   "cell_type": "code",
   "execution_count": null,
   "id": "951136af-38da-4ff7-a6c6-5bf91d7aacdc",
   "metadata": {
    "tags": []
   },
   "outputs": [],
   "source": [
    "np.exp(-(V[0] * (Q @ V[0])).sum()/2) * (np.multiply.outer(Q @ V[0], Q @ V[0]) - Q)"
   ]
  },
  {
   "cell_type": "code",
   "execution_count": null,
   "id": "5272795f-0026-4efc-8486-38a0f602516a",
   "metadata": {
    "tags": []
   },
   "outputs": [],
   "source": [
    "G.deriv3(V)[0]"
   ]
  },
  {
   "cell_type": "code",
   "execution_count": null,
   "id": "c23fc158-ac6d-4a5b-a8be-4eff334fb931",
   "metadata": {
    "tags": []
   },
   "outputs": [],
   "source": [
    "G.deriv4(V)[0]"
   ]
  },
  {
   "cell_type": "code",
   "execution_count": null,
   "id": "b82b9d57-5e11-4232-9d01-c88b36a34010",
   "metadata": {
    "tags": []
   },
   "outputs": [],
   "source": [
    "from gplasso.kernels import covariance_structure\n",
    "xval = np.linspace(0, 10, 21)\n",
    "yval = np.linspace(0, 10, 21)\n",
    "zval = np.linspace(0, 10, 21)\n",
    "\n",
    "grid = np.meshgrid(xval, yval, zval, indexing='ij')\n",
    "\n",
    "K = covariance_structure.gaussian(precision=Q, var=1, grid=grid)"
   ]
  },
  {
   "cell_type": "code",
   "execution_count": null,
   "id": "c4be53f3-1c31-4972-bf2e-60ca0f42b931",
   "metadata": {
    "tags": []
   },
   "outputs": [],
   "source": [
    "C00 = K.C00(V, W)"
   ]
  },
  {
   "cell_type": "code",
   "execution_count": null,
   "id": "49fffe00-148c-4d91-a49e-9388df7b9898",
   "metadata": {
    "tags": []
   },
   "outputs": [],
   "source": [
    "A = np.array([np.subtract.outer(V[:,i], W[:,i]) for i in range(V.shape[-1])])\n",
    "A = np.transpose(A, [1, 2, 0])\n",
    "np.linalg.norm(G.deriv0(A) - C00) / np.linalg.norm(C00)"
   ]
  },
  {
   "cell_type": "code",
   "execution_count": null,
   "id": "a1c4f3d7-6fda-4e5a-9e52-291512e66876",
   "metadata": {
    "tags": []
   },
   "outputs": [],
   "source": [
    "C10 = K.C10(V, W)\n",
    "C10.shape"
   ]
  },
  {
   "cell_type": "code",
   "execution_count": null,
   "id": "6e92e9fb-5ddf-4e66-89bc-c94512504426",
   "metadata": {
    "tags": []
   },
   "outputs": [],
   "source": [
    "np.linalg.norm(G.deriv1(A)[:,:,0]-C10[:,:,0]) / np.linalg.norm(C10[:,:,0])"
   ]
  },
  {
   "cell_type": "code",
   "execution_count": null,
   "id": "d3b47e92-60a8-4fde-8df9-117ec15a8ccb",
   "metadata": {
    "tags": []
   },
   "outputs": [],
   "source": [
    "np.linalg.norm(G.deriv1(A)-C10) / np.linalg.norm(C10)"
   ]
  },
  {
   "cell_type": "code",
   "execution_count": null,
   "id": "c49feea6-47cc-4c4c-8d0e-5d333c43c405",
   "metadata": {
    "tags": []
   },
   "outputs": [],
   "source": [
    "G.deriv2(A).shape"
   ]
  },
  {
   "cell_type": "code",
   "execution_count": null,
   "id": "0d2cc6ab-ef4f-41aa-bb2e-2bf844cac74a",
   "metadata": {
    "tags": []
   },
   "outputs": [],
   "source": [
    "C20 = K.C20(V, W)\n",
    "C20.shape"
   ]
  },
  {
   "cell_type": "code",
   "execution_count": null,
   "id": "05791c85-a6cb-496b-8744-4c2a2c4bbdea",
   "metadata": {
    "tags": []
   },
   "outputs": [],
   "source": [
    "np.linalg.norm(G.deriv2(A)[:,:,0,0]-C20[:,:,0,0]) / np.linalg.norm(C20[:,:,0,0])"
   ]
  },
  {
   "cell_type": "code",
   "execution_count": null,
   "id": "04d9b94b-f73e-4ef1-bc93-2fe7ab33226b",
   "metadata": {
    "tags": []
   },
   "outputs": [],
   "source": [
    "np.linalg.norm(G.deriv2(A)-C20) / np.linalg.norm(C20)"
   ]
  },
  {
   "cell_type": "code",
   "execution_count": null,
   "id": "295dd313-e6c0-43a1-ac27-ed81e86c7cf2",
   "metadata": {
    "tags": []
   },
   "outputs": [],
   "source": [
    "C21 = K.C21(V, W)\n",
    "C21.shape"
   ]
  },
  {
   "cell_type": "code",
   "execution_count": null,
   "id": "d060e2d9-544d-4590-aa1f-83e281397508",
   "metadata": {
    "tags": []
   },
   "outputs": [],
   "source": [
    "np.linalg.norm(G.deriv3(A)[:,:,0,0,0]+C21[:,:,0,0,0]) / np.linalg.norm(C21[:,:,0,0,0])"
   ]
  },
  {
   "cell_type": "code",
   "execution_count": null,
   "id": "65e176bf-e76d-4852-b979-086c25ba6ac8",
   "metadata": {
    "tags": []
   },
   "outputs": [],
   "source": [
    "np.linalg.norm(G.deriv3(A)+C21) / np.linalg.norm(C21)"
   ]
  },
  {
   "cell_type": "code",
   "execution_count": null,
   "id": "34c6b955-4f53-4e8b-a6b4-9ec487c9cfe4",
   "metadata": {
    "tags": []
   },
   "outputs": [],
   "source": [
    "G.deriv3(A).shape"
   ]
  },
  {
   "cell_type": "code",
   "execution_count": null,
   "id": "5bd0a345-0fcb-4433-8677-93bf7d5b7940",
   "metadata": {
    "tags": []
   },
   "outputs": [],
   "source": [
    "C22 = K.C22(V, W)"
   ]
  },
  {
   "cell_type": "code",
   "execution_count": null,
   "id": "9310f93a-02f5-4378-80a6-24c202ae7295",
   "metadata": {
    "tags": []
   },
   "outputs": [],
   "source": [
    "np.linalg.norm(G.deriv4(A)-C22) / np.linalg.norm(C22)"
   ]
  },
  {
   "cell_type": "code",
   "execution_count": null,
   "id": "e4740cfe-c4e8-4282-8f28-7c403aad113e",
   "metadata": {},
   "outputs": [],
   "source": []
  }
 ],
 "metadata": {
  "kernelspec": {
   "display_name": "Python 3 (ipykernel)",
   "language": "python",
   "name": "python3"
  },
  "language_info": {
   "codemirror_mode": {
    "name": "ipython",
    "version": 3
   },
   "file_extension": ".py",
   "mimetype": "text/x-python",
   "name": "python",
   "nbconvert_exporter": "python",
   "pygments_lexer": "ipython3",
   "version": "3.9.16"
  }
 },
 "nbformat": 4,
 "nbformat_minor": 5
}
